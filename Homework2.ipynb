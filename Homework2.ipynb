{
 "cells": [
  {
   "cell_type": "markdown",
   "metadata": {},
   "source": [
    "# CMRM Assignment No. 2"
   ]
  },
  {
   "cell_type": "code",
   "execution_count": null,
   "metadata": {},
   "outputs": [],
   "source": [
    "import os\n",
    "import numpy as np\n",
    "import soundfile as sf\n",
    "import librosa\n",
    "import sklearn # pip install sklearn\n",
    "import IPython.display as ipd\n",
    "import matplotlib.pyplot as plt\n",
    "from tqdm import tqdm # pip install tqdm\n",
    "from nmf import nmf"
   ]
  },
  {
   "cell_type": "markdown",
   "metadata": {},
   "source": [
    "## Question 1"
   ]
  },
  {
   "cell_type": "code",
   "execution_count": null,
   "metadata": {},
   "outputs": [],
   "source": [
    "# Define directories and lists\n",
    "output_dir = \n",
    "source_dir = \n",
    "target_dir = \n",
    "sources = \n",
    "targets = \n",
    "\n",
    "# Create the output directory if it does not exist\n",
    "\n"
   ]
  },
  {
   "cell_type": "code",
   "execution_count": null,
   "metadata": {},
   "outputs": [],
   "source": [
    "# Load signals\n",
    "Fs = 22050\n",
    "\n"
   ]
  },
  {
   "cell_type": "code",
   "execution_count": null,
   "metadata": {},
   "outputs": [],
   "source": [
    "N_length = 4960\n",
    "H_size = 1024\n",
    "\n",
    "# STFT computation\n",
    "# Source\n",
    "\n",
    "# Plot\n",
    "\n",
    "# Target\n",
    "\n",
    "# Plot\n"
   ]
  },
  {
   "cell_type": "markdown",
   "metadata": {},
   "source": [
    "## Question 2"
   ]
  },
  {
   "cell_type": "code",
   "execution_count": null,
   "metadata": {},
   "outputs": [],
   "source": [
    "# Initialize activations randomly\n",
    "\n",
    "\n",
    "# Initialize templates according to source frames\n",
    "\n",
    "\n",
    "# NMF\n",
    "\n",
    "\n",
    "# Error norm\n",
    "\n"
   ]
  },
  {
   "cell_type": "code",
   "execution_count": null,
   "metadata": {},
   "outputs": [],
   "source": [
    "# Plot H0 and H\n"
   ]
  },
  {
   "cell_type": "code",
   "execution_count": null,
   "metadata": {},
   "outputs": [],
   "source": [
    "# Define a function to visualize the NMF components\n",
    "def visualize_nmf(V, W, H, fs, time_res, gamma=2):\n",
    "    \"\"\"Visualize the matrices W, H, and compare reconstruction V ~ WH to V\n",
    "\n",
    "    Args:\n",
    "        V: target\n",
    "        W: template matrix\n",
    "        H: activation matrix\n",
    "        fs: sampling frequency\n",
    "        time_res: time resolution\n",
    "        gamma: compression factor for V\n",
    "\n",
    "    Returns:\n",
    "        None\n",
    "    \"\"\"\n",
    "    \n",
    "    "
   ]
  },
  {
   "cell_type": "code",
   "execution_count": null,
   "metadata": {},
   "outputs": [],
   "source": [
    "# Test visualize_nmf\n"
   ]
  },
  {
   "cell_type": "markdown",
   "metadata": {},
   "source": [
    "## Question 3"
   ]
  },
  {
   "cell_type": "code",
   "execution_count": null,
   "metadata": {},
   "outputs": [],
   "source": [
    "# Replace the magnitude frames by complex valued frames\n",
    "\n",
    "\n",
    "# Re-synthesize using ISTFT\n",
    "\n",
    "\n",
    "# Re-synthesize using Griffin-Lim algorithm\n",
    "\n"
   ]
  },
  {
   "cell_type": "code",
   "execution_count": null,
   "metadata": {},
   "outputs": [],
   "source": [
    "# Save result\n"
   ]
  },
  {
   "cell_type": "code",
   "execution_count": null,
   "metadata": {
    "scrolled": true
   },
   "outputs": [],
   "source": [
    "# Phase check \n",
    "# ISTFT\n",
    "\n",
    "\n",
    "# Griffin-Lim\n"
   ]
  },
  {
   "cell_type": "code",
   "execution_count": null,
   "metadata": {},
   "outputs": [],
   "source": [
    "# Play target\n"
   ]
  },
  {
   "cell_type": "code",
   "execution_count": null,
   "metadata": {},
   "outputs": [],
   "source": [
    "# Play source\n"
   ]
  },
  {
   "cell_type": "code",
   "execution_count": null,
   "metadata": {},
   "outputs": [],
   "source": [
    "# Play new target - ISTFT\n"
   ]
  },
  {
   "cell_type": "code",
   "execution_count": null,
   "metadata": {},
   "outputs": [],
   "source": [
    "# Play new target - GF\n"
   ]
  },
  {
   "cell_type": "markdown",
   "metadata": {},
   "source": [
    "## Question 4"
   ]
  },
  {
   "cell_type": "code",
   "execution_count": null,
   "metadata": {},
   "outputs": [],
   "source": [
    "# Define the function timbre_transfer\n",
    "def timbre_transfer(t, s, fs, hop_size=1024, win_length=4096, resynth='gf', plot=False):\n",
    "    \"\"\"Transfer the timbre from the source to the target\n",
    "\n",
    "    Args:\n",
    "        t: target waveform\n",
    "        s: source waveform\n",
    "        fs: sampling frequency\n",
    "        hop_size: hop size used for the STFT computation and the re-synthesis\n",
    "        win_length: length of the window used for the STFT computation and the re-synthesis\n",
    "        resynth: method used for the audio re-synthesis. Methods available: 'gf' = Griffin-Lim, 'istft' = Inverse STFT\n",
    "        plot: boolean enabling visualization of NMF matrices and target spectrogram \n",
    "\n",
    "    Returns:\n",
    "        y: audio waveform resynthesized through the chosen method\n",
    "    \"\"\"\n",
    "    \n",
    "    return y"
   ]
  },
  {
   "cell_type": "markdown",
   "metadata": {},
   "source": [
    "## Question 5"
   ]
  },
  {
   "cell_type": "code",
   "execution_count": null,
   "metadata": {},
   "outputs": [],
   "source": [
    "# Use the function timbre_tansfer for all the possible combinations of source and target\n",
    "\n"
   ]
  }
 ],
 "metadata": {
  "kernelspec": {
   "display_name": "CMRM2024",
   "language": "python",
   "name": "python3"
  },
  "language_info": {
   "codemirror_mode": {
    "name": "ipython",
    "version": 3
   },
   "file_extension": ".py",
   "mimetype": "text/x-python",
   "name": "python",
   "nbconvert_exporter": "python",
   "pygments_lexer": "ipython3",
   "version": "3.8.20"
  }
 },
 "nbformat": 4,
 "nbformat_minor": 4
}
